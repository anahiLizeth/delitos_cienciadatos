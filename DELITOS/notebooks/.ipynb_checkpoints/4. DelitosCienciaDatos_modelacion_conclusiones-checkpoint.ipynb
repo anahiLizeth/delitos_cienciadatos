{
 "cells": [
  {
   "cell_type": "code",
   "execution_count": 1,
   "id": "24e00cea",
   "metadata": {},
   "outputs": [],
   "source": [
    "%matplotlib inline\n",
    "import pandas as pd"
   ]
  },
  {
   "cell_type": "code",
   "execution_count": 2,
   "id": "f2749b94",
   "metadata": {},
   "outputs": [],
   "source": [
    "delitos_df = pd.read_csv('clean_final_delitos.csv')"
   ]
  },
  {
   "cell_type": "markdown",
   "id": "47e1f373",
   "metadata": {},
   "source": [
    "## PROBAR UN MODELO SUPERVISADO"
   ]
  },
  {
   "cell_type": "code",
   "execution_count": 6,
   "id": "d0b8c1a4",
   "metadata": {},
   "outputs": [],
   "source": [
    "data = delitos_df.copy()\n",
    "for i, column in enumerate(list([str(d) for d in data.dtypes])):\n",
    "    if column == \"object\":\n",
    "        data[data.columns[i]] = data[data.columns[i]].fillna(data[data.columns[i]].mode())\n",
    "        data[data.columns[i]] = data[data.columns[i]].astype(\"category\").cat.codes\n",
    "    else:\n",
    "        data[data.columns[i]] = data[data.columns[i]].fillna(data[data.columns[i]].median())"
   ]
  },
  {
   "cell_type": "code",
   "execution_count": 7,
   "id": "8cce51cc",
   "metadata": {},
   "outputs": [
    {
     "data": {
      "text/html": [
       "<div>\n",
       "<style scoped>\n",
       "    .dataframe tbody tr th:only-of-type {\n",
       "        vertical-align: middle;\n",
       "    }\n",
       "\n",
       "    .dataframe tbody tr th {\n",
       "        vertical-align: top;\n",
       "    }\n",
       "\n",
       "    .dataframe thead th {\n",
       "        text-align: right;\n",
       "    }\n",
       "</style>\n",
       "<table border=\"1\" class=\"dataframe\">\n",
       "  <thead>\n",
       "    <tr style=\"text-align: right;\">\n",
       "      <th></th>\n",
       "      <th>Año</th>\n",
       "      <th>Clave_Ent_x</th>\n",
       "      <th>Entidad</th>\n",
       "      <th>Bien jurídico afectado</th>\n",
       "      <th>Tipo de delito</th>\n",
       "      <th>Subtipo de delito</th>\n",
       "      <th>Modalidad</th>\n",
       "      <th>Enero_x</th>\n",
       "      <th>Febrero_x</th>\n",
       "      <th>Marzo_x</th>\n",
       "      <th>...</th>\n",
       "      <th>Junio_y</th>\n",
       "      <th>Julio_y</th>\n",
       "      <th>Agosto_y</th>\n",
       "      <th>Septiembre_y</th>\n",
       "      <th>Octubre_y</th>\n",
       "      <th>Noviembre_y</th>\n",
       "      <th>Diciembre_y</th>\n",
       "      <th>TotalDelitos_y</th>\n",
       "      <th>Promedio por entidad federativa</th>\n",
       "      <th>Por encima del promedio</th>\n",
       "    </tr>\n",
       "  </thead>\n",
       "  <tbody>\n",
       "    <tr>\n",
       "      <th>0</th>\n",
       "      <td>2015</td>\n",
       "      <td>1</td>\n",
       "      <td>0</td>\n",
       "      <td>4</td>\n",
       "      <td>18</td>\n",
       "      <td>19</td>\n",
       "      <td>7</td>\n",
       "      <td>3</td>\n",
       "      <td>0.0</td>\n",
       "      <td>2.0</td>\n",
       "      <td>...</td>\n",
       "      <td>45.410395</td>\n",
       "      <td>44.585459</td>\n",
       "      <td>44.456633</td>\n",
       "      <td>45.021046</td>\n",
       "      <td>46.474809</td>\n",
       "      <td>44.20727</td>\n",
       "      <td>41.676658</td>\n",
       "      <td>528.63648</td>\n",
       "      <td>76.698069</td>\n",
       "      <td>0</td>\n",
       "    </tr>\n",
       "    <tr>\n",
       "      <th>1</th>\n",
       "      <td>2015</td>\n",
       "      <td>1</td>\n",
       "      <td>0</td>\n",
       "      <td>4</td>\n",
       "      <td>18</td>\n",
       "      <td>19</td>\n",
       "      <td>6</td>\n",
       "      <td>1</td>\n",
       "      <td>1.0</td>\n",
       "      <td>0.0</td>\n",
       "      <td>...</td>\n",
       "      <td>45.410395</td>\n",
       "      <td>44.585459</td>\n",
       "      <td>44.456633</td>\n",
       "      <td>45.021046</td>\n",
       "      <td>46.474809</td>\n",
       "      <td>44.20727</td>\n",
       "      <td>41.676658</td>\n",
       "      <td>528.63648</td>\n",
       "      <td>76.698069</td>\n",
       "      <td>0</td>\n",
       "    </tr>\n",
       "    <tr>\n",
       "      <th>2</th>\n",
       "      <td>2015</td>\n",
       "      <td>1</td>\n",
       "      <td>0</td>\n",
       "      <td>4</td>\n",
       "      <td>18</td>\n",
       "      <td>19</td>\n",
       "      <td>8</td>\n",
       "      <td>0</td>\n",
       "      <td>0.0</td>\n",
       "      <td>2.0</td>\n",
       "      <td>...</td>\n",
       "      <td>45.410395</td>\n",
       "      <td>44.585459</td>\n",
       "      <td>44.456633</td>\n",
       "      <td>45.021046</td>\n",
       "      <td>46.474809</td>\n",
       "      <td>44.20727</td>\n",
       "      <td>41.676658</td>\n",
       "      <td>528.63648</td>\n",
       "      <td>76.698069</td>\n",
       "      <td>0</td>\n",
       "    </tr>\n",
       "    <tr>\n",
       "      <th>3</th>\n",
       "      <td>2015</td>\n",
       "      <td>1</td>\n",
       "      <td>0</td>\n",
       "      <td>4</td>\n",
       "      <td>18</td>\n",
       "      <td>19</td>\n",
       "      <td>26</td>\n",
       "      <td>2</td>\n",
       "      <td>0.0</td>\n",
       "      <td>0.0</td>\n",
       "      <td>...</td>\n",
       "      <td>45.410395</td>\n",
       "      <td>44.585459</td>\n",
       "      <td>44.456633</td>\n",
       "      <td>45.021046</td>\n",
       "      <td>46.474809</td>\n",
       "      <td>44.20727</td>\n",
       "      <td>41.676658</td>\n",
       "      <td>528.63648</td>\n",
       "      <td>76.698069</td>\n",
       "      <td>0</td>\n",
       "    </tr>\n",
       "    <tr>\n",
       "      <th>4</th>\n",
       "      <td>2015</td>\n",
       "      <td>1</td>\n",
       "      <td>0</td>\n",
       "      <td>4</td>\n",
       "      <td>18</td>\n",
       "      <td>18</td>\n",
       "      <td>7</td>\n",
       "      <td>0</td>\n",
       "      <td>0.0</td>\n",
       "      <td>0.0</td>\n",
       "      <td>...</td>\n",
       "      <td>45.410395</td>\n",
       "      <td>44.585459</td>\n",
       "      <td>44.456633</td>\n",
       "      <td>45.021046</td>\n",
       "      <td>46.474809</td>\n",
       "      <td>44.20727</td>\n",
       "      <td>41.676658</td>\n",
       "      <td>528.63648</td>\n",
       "      <td>76.698069</td>\n",
       "      <td>0</td>\n",
       "    </tr>\n",
       "  </tbody>\n",
       "</table>\n",
       "<p>5 rows × 38 columns</p>\n",
       "</div>"
      ],
      "text/plain": [
       "    Año  Clave_Ent_x  Entidad  Bien jurídico afectado  Tipo de delito  \\\n",
       "0  2015            1        0                       4              18   \n",
       "1  2015            1        0                       4              18   \n",
       "2  2015            1        0                       4              18   \n",
       "3  2015            1        0                       4              18   \n",
       "4  2015            1        0                       4              18   \n",
       "\n",
       "   Subtipo de delito  Modalidad  Enero_x  Febrero_x  Marzo_x  ...    Junio_y  \\\n",
       "0                 19          7        3        0.0      2.0  ...  45.410395   \n",
       "1                 19          6        1        1.0      0.0  ...  45.410395   \n",
       "2                 19          8        0        0.0      2.0  ...  45.410395   \n",
       "3                 19         26        2        0.0      0.0  ...  45.410395   \n",
       "4                 18          7        0        0.0      0.0  ...  45.410395   \n",
       "\n",
       "     Julio_y   Agosto_y  Septiembre_y  Octubre_y  Noviembre_y  Diciembre_y  \\\n",
       "0  44.585459  44.456633     45.021046  46.474809     44.20727    41.676658   \n",
       "1  44.585459  44.456633     45.021046  46.474809     44.20727    41.676658   \n",
       "2  44.585459  44.456633     45.021046  46.474809     44.20727    41.676658   \n",
       "3  44.585459  44.456633     45.021046  46.474809     44.20727    41.676658   \n",
       "4  44.585459  44.456633     45.021046  46.474809     44.20727    41.676658   \n",
       "\n",
       "   TotalDelitos_y  Promedio por entidad federativa  Por encima del promedio  \n",
       "0       528.63648                        76.698069                        0  \n",
       "1       528.63648                        76.698069                        0  \n",
       "2       528.63648                        76.698069                        0  \n",
       "3       528.63648                        76.698069                        0  \n",
       "4       528.63648                        76.698069                        0  \n",
       "\n",
       "[5 rows x 38 columns]"
      ]
     },
     "execution_count": 7,
     "metadata": {},
     "output_type": "execute_result"
    }
   ],
   "source": [
    "data.head(5)"
   ]
  },
  {
   "cell_type": "code",
   "execution_count": 8,
   "id": "149bf09c",
   "metadata": {},
   "outputs": [],
   "source": [
    "from sklearn.ensemble import RandomForestRegressor\n",
    "from sklearn.model_selection import train_test_split"
   ]
  },
  {
   "cell_type": "code",
   "execution_count": 12,
   "id": "85d20056",
   "metadata": {},
   "outputs": [],
   "source": [
    "y = data.pop('Tipo de delito')\n",
    "X = data.copy()"
   ]
  },
  {
   "cell_type": "code",
   "execution_count": 13,
   "id": "afc3b1a7",
   "metadata": {},
   "outputs": [],
   "source": [
    "X_train, X_test, y_train, y_test = train_test_split(X, y, test_size = 0.33, random_state=42)"
   ]
  },
  {
   "cell_type": "code",
   "execution_count": 15,
   "id": "2d4a4e4a",
   "metadata": {},
   "outputs": [],
   "source": [
    "clf = RandomForestRegressor(n_estimators = 1000, max_depth = 4 )"
   ]
  },
  {
   "cell_type": "code",
   "execution_count": 16,
   "id": "a58b2a20",
   "metadata": {},
   "outputs": [
    {
     "data": {
      "text/plain": [
       "RandomForestRegressor(max_depth=4, n_estimators=1000)"
      ]
     },
     "execution_count": 16,
     "metadata": {},
     "output_type": "execute_result"
    }
   ],
   "source": [
    "clf.fit(X_train, y_train)"
   ]
  },
  {
   "cell_type": "code",
   "execution_count": 17,
   "id": "b2d016a8",
   "metadata": {},
   "outputs": [],
   "source": [
    "#metrica del modelo\n",
    "from sklearn.metrics import r2_score"
   ]
  },
  {
   "cell_type": "code",
   "execution_count": 19,
   "id": "210dac42",
   "metadata": {},
   "outputs": [
    {
     "data": {
      "text/plain": [
       "0.9972248203203581"
      ]
     },
     "execution_count": 19,
     "metadata": {},
     "output_type": "execute_result"
    }
   ],
   "source": [
    "r2_score(y_test, clf.predict(X_test))"
   ]
  },
  {
   "cell_type": "markdown",
   "id": "3b2b78e8",
   "metadata": {},
   "source": [
    "## PROBAR UN MODELO NO SUPERVISADO O DE CLUSTERING PARA TEXTO"
   ]
  },
  {
   "cell_type": "code",
   "execution_count": null,
   "id": "816248c3",
   "metadata": {},
   "outputs": [],
   "source": [
    "import gensim\n",
    "from ntlk.corpus import stopwords\n",
    "import numpy as np\n",
    "np.random.seed(2021)"
   ]
  },
  {
   "cell_type": "code",
   "execution_count": null,
   "id": "af28b3fe",
   "metadata": {},
   "outputs": [],
   "source": [
    "def preprocess(text):\n",
    "    result = []\n",
    "    for token in text.split():\n",
    "        if token not in stopwords.words('spanish') and len(token)>4:\n",
    "            result.append(token)\n",
    "    return result"
   ]
  },
  {
   "cell_type": "code",
   "execution_count": null,
   "id": "bad54344",
   "metadata": {},
   "outputs": [],
   "source": [
    "process_business = [preprocess(x) for x in list(delitos_df['Tipo de delito'].unique())]"
   ]
  },
  {
   "cell_type": "code",
   "execution_count": null,
   "id": "ac5df584",
   "metadata": {},
   "outputs": [],
   "source": [
    "dictionary = gensim.corpora.Dictionary(process_business)"
   ]
  },
  {
   "cell_type": "code",
   "execution_count": null,
   "id": "1d99e850",
   "metadata": {},
   "outputs": [],
   "source": [
    "dictionary.filter_extremes(no_below=1, no_above=0.5)"
   ]
  },
  {
   "cell_type": "code",
   "execution_count": null,
   "id": "21dfcf77",
   "metadata": {},
   "outputs": [],
   "source": [
    "bow_corpus = [dictionary.doc2bow(doc) for doc in process_business]"
   ]
  },
  {
   "cell_type": "code",
   "execution_count": null,
   "id": "3b43374c",
   "metadata": {},
   "outputs": [],
   "source": [
    "lda_model = gensim.models.LdaMulticore(bow_corpus, num_topics=6, id2word=dictionary, passes=10, workers =2 )"
   ]
  },
  {
   "cell_type": "code",
   "execution_count": null,
   "id": "4ec7e57d",
   "metadata": {},
   "outputs": [],
   "source": [
    "for idx, type_bussiness in lda_model.print_topics(-1):\n",
    "    print('Topic: {} Words:{}'.format(idx, type_bussiness))"
   ]
  },
  {
   "cell_type": "code",
   "execution_count": null,
   "id": "a2641449",
   "metadata": {},
   "outputs": [],
   "source": [
    "def get_max_topic(index):\n",
    "    results = lda_model[bow_corpus[index]]\n",
    "    return mx(lda_model[results], key = lambda x: x[1])[0]"
   ]
  },
  {
   "cell_type": "code",
   "execution_count": null,
   "id": "774f90ac",
   "metadata": {},
   "outputs": [],
   "source": [
    "business_cluster = {x: get_max_topic(i) for i, x in enumerate(list(compras.df['Entidad'].unique()))}"
   ]
  },
  {
   "cell_type": "code",
   "execution_count": null,
   "id": "3687763a",
   "metadata": {},
   "outputs": [],
   "source": [
    "delitos_df['CLUSTER_NAME'] = delitos_df['Entidad'].apply(lambda x: business_cluster[x])"
   ]
  },
  {
   "cell_type": "code",
   "execution_count": null,
   "id": "2eed4bbc",
   "metadata": {},
   "outputs": [],
   "source": [
    "delitos_df.value_counts()"
   ]
  },
  {
   "cell_type": "code",
   "execution_count": null,
   "id": "ec134c40",
   "metadata": {},
   "outputs": [],
   "source": [
    "#promedio de los delitos por cluster\n",
    "delitos_df.groupby('CLUSTER_NAME')['Enero'].mean().plot.bar()"
   ]
  },
  {
   "cell_type": "code",
   "execution_count": null,
   "id": "8a12b724",
   "metadata": {},
   "outputs": [],
   "source": [
    "business_cluster"
   ]
  }
 ],
 "metadata": {
  "kernelspec": {
   "display_name": "Python 3 (ipykernel)",
   "language": "python",
   "name": "python3"
  },
  "language_info": {
   "codemirror_mode": {
    "name": "ipython",
    "version": 3
   },
   "file_extension": ".py",
   "mimetype": "text/x-python",
   "name": "python",
   "nbconvert_exporter": "python",
   "pygments_lexer": "ipython3",
   "version": "3.9.13"
  }
 },
 "nbformat": 4,
 "nbformat_minor": 5
}
